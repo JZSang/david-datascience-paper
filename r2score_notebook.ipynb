{
 "cells": [
  {
   "cell_type": "code",
   "execution_count": 77,
   "metadata": {},
   "outputs": [],
   "source": [
    "import pandas as pd\n",
    "import numpy as np\n",
    "pd.set_option('display.float_format', lambda x: '%.3f' % x)\n",
    "df = pd.read_csv(\"./r2_score.csv\", index_col=0)\n"
   ]
  },
  {
   "cell_type": "code",
   "execution_count": 78,
   "metadata": {},
   "outputs": [],
   "source": [
    "df = df[df.R2SCOREBEFORE != df.R2SCOREAFTER]"
   ]
  },
  {
   "cell_type": "code",
   "execution_count": 79,
   "metadata": {},
   "outputs": [],
   "source": [
    "df.R2SCOREBEFORE = (df.R2SCOREBEFORE).astype(\"float64\")\n",
    "df.R2SCOREAFTER = (df.R2SCOREAFTER.astype(\"float64\"))"
   ]
  },
  {
   "cell_type": "code",
   "execution_count": 80,
   "metadata": {},
   "outputs": [],
   "source": [
    "df = df.sort_values(\"R2SCOREBEFORE\", ascending=False)"
   ]
  },
  {
   "cell_type": "code",
   "execution_count": 81,
   "metadata": {},
   "outputs": [
    {
     "output_type": "execute_result",
     "data": {
      "text/plain": "              COUNTY                       R2SCOREBEFORE  R2SCOREAFTER\n37   Prince George's                               0.993    -12140.899\n35              Pima                               0.991   -393244.853\n2        Los Angeles                               0.983    -92117.585\n32           Fairfax                               0.974    -37845.589\n5               Dane                               0.973   -654617.379\n23             Pinal                               0.973    -88826.392\n15           Manatee                               0.954    -66980.533\n17           Grafton                               0.953   -111843.369\n21        Santa Rosa                               0.949    -84030.067\n41             Pasco                               0.949   -225568.659\n8         Sacramento                               0.949   -103632.902\n4      San Francisco                               0.948    -83916.420\n63            Gordon                               0.943     -1585.651\n42          Pinellas                               0.937  -1525150.174\n44      Philadelphia                               0.936    -18807.361\n61      Androscoggin                               0.935       -24.083\n60          Sarasota                               0.932   -574030.260\n52         St. Johns                               0.932   -874899.114\n56             Bucks                               0.931    -41516.695\n29           Volusia                               0.927   -398054.257\n1           Maricopa                               0.926  -1205253.646\n19              Wake                               0.905  -1050047.553\n31          Gwinnett                               0.899   -212028.660\n28          Okaloosa                               0.896   -197751.754\n3        Santa Clara                               0.884  -1012797.840\n67       Pearl River                               0.881    -14189.414\n49           Tarrant                               0.881   -349192.886\n65            Copiah                               0.881        -0.869\n22            Washoe                               0.870   -165809.082\n62        Tuscaloosa                               0.857    -26471.469\n6          San Diego                               0.848   -111519.763\n59        Palm Beach                               0.841   -329781.591\n7              Bexar                               0.831  -1030880.036\n33           Harford                               0.824       -53.099\n14            Sonoma                               0.801         0.633\n10           Spokane                               0.796      -254.130\n40           Collier                               0.791   -339014.441\n55           Forrest                               0.786     -2321.893\n20         Fort Bend                               0.773   -324854.016\n51        Miami-Dade                               0.772   -103146.538\n66           Leflore                               0.768     -1255.525\n16           Norfolk                               0.757     -8089.000\n38            Collin                               0.756  -1413826.712\n64       St. Charles                               0.730   -863654.653\n0          Snohomish                               0.676   -238097.945\n30              Cobb                               0.647   -226638.131\n58             Gregg                               0.637        -0.564\n39           Alachua                               0.580   -694107.150\n24           Broward                               0.557   -303234.134\n12             Marin                               0.477        -0.132\n53            Bartow                               0.167   -212431.367\n54             Caddo                              -1.066      -915.695\n107         Ouachita                              -1.420     -2510.080\n9             Solano                             -43.830    -46880.337\n43          Charlton -110402368397727673987511615488.000        -0.747\n18       Walla Walla -110416674366086795315789168640.000        -0.736\n13              Napa -110418934973238005878914809856.000        -1.072",
      "text/html": "<div>\n<style scoped>\n    .dataframe tbody tr th:only-of-type {\n        vertical-align: middle;\n    }\n\n    .dataframe tbody tr th {\n        vertical-align: top;\n    }\n\n    .dataframe thead th {\n        text-align: right;\n    }\n</style>\n<table border=\"1\" class=\"dataframe\">\n  <thead>\n    <tr style=\"text-align: right;\">\n      <th></th>\n      <th>COUNTY</th>\n      <th>R2SCOREBEFORE</th>\n      <th>R2SCOREAFTER</th>\n    </tr>\n  </thead>\n  <tbody>\n    <tr>\n      <th>37</th>\n      <td>Prince George's</td>\n      <td>0.993</td>\n      <td>-12140.899</td>\n    </tr>\n    <tr>\n      <th>35</th>\n      <td>Pima</td>\n      <td>0.991</td>\n      <td>-393244.853</td>\n    </tr>\n    <tr>\n      <th>2</th>\n      <td>Los Angeles</td>\n      <td>0.983</td>\n      <td>-92117.585</td>\n    </tr>\n    <tr>\n      <th>32</th>\n      <td>Fairfax</td>\n      <td>0.974</td>\n      <td>-37845.589</td>\n    </tr>\n    <tr>\n      <th>5</th>\n      <td>Dane</td>\n      <td>0.973</td>\n      <td>-654617.379</td>\n    </tr>\n    <tr>\n      <th>23</th>\n      <td>Pinal</td>\n      <td>0.973</td>\n      <td>-88826.392</td>\n    </tr>\n    <tr>\n      <th>15</th>\n      <td>Manatee</td>\n      <td>0.954</td>\n      <td>-66980.533</td>\n    </tr>\n    <tr>\n      <th>17</th>\n      <td>Grafton</td>\n      <td>0.953</td>\n      <td>-111843.369</td>\n    </tr>\n    <tr>\n      <th>21</th>\n      <td>Santa Rosa</td>\n      <td>0.949</td>\n      <td>-84030.067</td>\n    </tr>\n    <tr>\n      <th>41</th>\n      <td>Pasco</td>\n      <td>0.949</td>\n      <td>-225568.659</td>\n    </tr>\n    <tr>\n      <th>8</th>\n      <td>Sacramento</td>\n      <td>0.949</td>\n      <td>-103632.902</td>\n    </tr>\n    <tr>\n      <th>4</th>\n      <td>San Francisco</td>\n      <td>0.948</td>\n      <td>-83916.420</td>\n    </tr>\n    <tr>\n      <th>63</th>\n      <td>Gordon</td>\n      <td>0.943</td>\n      <td>-1585.651</td>\n    </tr>\n    <tr>\n      <th>42</th>\n      <td>Pinellas</td>\n      <td>0.937</td>\n      <td>-1525150.174</td>\n    </tr>\n    <tr>\n      <th>44</th>\n      <td>Philadelphia</td>\n      <td>0.936</td>\n      <td>-18807.361</td>\n    </tr>\n    <tr>\n      <th>61</th>\n      <td>Androscoggin</td>\n      <td>0.935</td>\n      <td>-24.083</td>\n    </tr>\n    <tr>\n      <th>60</th>\n      <td>Sarasota</td>\n      <td>0.932</td>\n      <td>-574030.260</td>\n    </tr>\n    <tr>\n      <th>52</th>\n      <td>St. Johns</td>\n      <td>0.932</td>\n      <td>-874899.114</td>\n    </tr>\n    <tr>\n      <th>56</th>\n      <td>Bucks</td>\n      <td>0.931</td>\n      <td>-41516.695</td>\n    </tr>\n    <tr>\n      <th>29</th>\n      <td>Volusia</td>\n      <td>0.927</td>\n      <td>-398054.257</td>\n    </tr>\n    <tr>\n      <th>1</th>\n      <td>Maricopa</td>\n      <td>0.926</td>\n      <td>-1205253.646</td>\n    </tr>\n    <tr>\n      <th>19</th>\n      <td>Wake</td>\n      <td>0.905</td>\n      <td>-1050047.553</td>\n    </tr>\n    <tr>\n      <th>31</th>\n      <td>Gwinnett</td>\n      <td>0.899</td>\n      <td>-212028.660</td>\n    </tr>\n    <tr>\n      <th>28</th>\n      <td>Okaloosa</td>\n      <td>0.896</td>\n      <td>-197751.754</td>\n    </tr>\n    <tr>\n      <th>3</th>\n      <td>Santa Clara</td>\n      <td>0.884</td>\n      <td>-1012797.840</td>\n    </tr>\n    <tr>\n      <th>67</th>\n      <td>Pearl River</td>\n      <td>0.881</td>\n      <td>-14189.414</td>\n    </tr>\n    <tr>\n      <th>49</th>\n      <td>Tarrant</td>\n      <td>0.881</td>\n      <td>-349192.886</td>\n    </tr>\n    <tr>\n      <th>65</th>\n      <td>Copiah</td>\n      <td>0.881</td>\n      <td>-0.869</td>\n    </tr>\n    <tr>\n      <th>22</th>\n      <td>Washoe</td>\n      <td>0.870</td>\n      <td>-165809.082</td>\n    </tr>\n    <tr>\n      <th>62</th>\n      <td>Tuscaloosa</td>\n      <td>0.857</td>\n      <td>-26471.469</td>\n    </tr>\n    <tr>\n      <th>6</th>\n      <td>San Diego</td>\n      <td>0.848</td>\n      <td>-111519.763</td>\n    </tr>\n    <tr>\n      <th>59</th>\n      <td>Palm Beach</td>\n      <td>0.841</td>\n      <td>-329781.591</td>\n    </tr>\n    <tr>\n      <th>7</th>\n      <td>Bexar</td>\n      <td>0.831</td>\n      <td>-1030880.036</td>\n    </tr>\n    <tr>\n      <th>33</th>\n      <td>Harford</td>\n      <td>0.824</td>\n      <td>-53.099</td>\n    </tr>\n    <tr>\n      <th>14</th>\n      <td>Sonoma</td>\n      <td>0.801</td>\n      <td>0.633</td>\n    </tr>\n    <tr>\n      <th>10</th>\n      <td>Spokane</td>\n      <td>0.796</td>\n      <td>-254.130</td>\n    </tr>\n    <tr>\n      <th>40</th>\n      <td>Collier</td>\n      <td>0.791</td>\n      <td>-339014.441</td>\n    </tr>\n    <tr>\n      <th>55</th>\n      <td>Forrest</td>\n      <td>0.786</td>\n      <td>-2321.893</td>\n    </tr>\n    <tr>\n      <th>20</th>\n      <td>Fort Bend</td>\n      <td>0.773</td>\n      <td>-324854.016</td>\n    </tr>\n    <tr>\n      <th>51</th>\n      <td>Miami-Dade</td>\n      <td>0.772</td>\n      <td>-103146.538</td>\n    </tr>\n    <tr>\n      <th>66</th>\n      <td>Leflore</td>\n      <td>0.768</td>\n      <td>-1255.525</td>\n    </tr>\n    <tr>\n      <th>16</th>\n      <td>Norfolk</td>\n      <td>0.757</td>\n      <td>-8089.000</td>\n    </tr>\n    <tr>\n      <th>38</th>\n      <td>Collin</td>\n      <td>0.756</td>\n      <td>-1413826.712</td>\n    </tr>\n    <tr>\n      <th>64</th>\n      <td>St. Charles</td>\n      <td>0.730</td>\n      <td>-863654.653</td>\n    </tr>\n    <tr>\n      <th>0</th>\n      <td>Snohomish</td>\n      <td>0.676</td>\n      <td>-238097.945</td>\n    </tr>\n    <tr>\n      <th>30</th>\n      <td>Cobb</td>\n      <td>0.647</td>\n      <td>-226638.131</td>\n    </tr>\n    <tr>\n      <th>58</th>\n      <td>Gregg</td>\n      <td>0.637</td>\n      <td>-0.564</td>\n    </tr>\n    <tr>\n      <th>39</th>\n      <td>Alachua</td>\n      <td>0.580</td>\n      <td>-694107.150</td>\n    </tr>\n    <tr>\n      <th>24</th>\n      <td>Broward</td>\n      <td>0.557</td>\n      <td>-303234.134</td>\n    </tr>\n    <tr>\n      <th>12</th>\n      <td>Marin</td>\n      <td>0.477</td>\n      <td>-0.132</td>\n    </tr>\n    <tr>\n      <th>53</th>\n      <td>Bartow</td>\n      <td>0.167</td>\n      <td>-212431.367</td>\n    </tr>\n    <tr>\n      <th>54</th>\n      <td>Caddo</td>\n      <td>-1.066</td>\n      <td>-915.695</td>\n    </tr>\n    <tr>\n      <th>107</th>\n      <td>Ouachita</td>\n      <td>-1.420</td>\n      <td>-2510.080</td>\n    </tr>\n    <tr>\n      <th>9</th>\n      <td>Solano</td>\n      <td>-43.830</td>\n      <td>-46880.337</td>\n    </tr>\n    <tr>\n      <th>43</th>\n      <td>Charlton</td>\n      <td>-110402368397727673987511615488.000</td>\n      <td>-0.747</td>\n    </tr>\n    <tr>\n      <th>18</th>\n      <td>Walla Walla</td>\n      <td>-110416674366086795315789168640.000</td>\n      <td>-0.736</td>\n    </tr>\n    <tr>\n      <th>13</th>\n      <td>Napa</td>\n      <td>-110418934973238005878914809856.000</td>\n      <td>-1.072</td>\n    </tr>\n  </tbody>\n</table>\n</div>"
     },
     "metadata": {},
     "execution_count": 81
    }
   ],
   "source": [
    "df.head(57)"
   ]
  },
  {
   "cell_type": "code",
   "execution_count": 82,
   "metadata": {},
   "outputs": [
    {
     "output_type": "execute_result",
     "data": {
      "text/plain": "57"
     },
     "metadata": {},
     "execution_count": 82
    }
   ],
   "source": [
    "len(df)"
   ]
  },
  {
   "cell_type": "code",
   "execution_count": null,
   "metadata": {},
   "outputs": [],
   "source": []
  }
 ],
 "metadata": {
  "language_info": {
   "codemirror_mode": {
    "name": "ipython",
    "version": 3
   },
   "file_extension": ".py",
   "mimetype": "text/x-python",
   "name": "python",
   "nbconvert_exporter": "python",
   "pygments_lexer": "ipython3",
   "version": "3.6.8-final"
  },
  "orig_nbformat": 2,
  "kernelspec": {
   "name": "python36864bitd09e43f2e4574358a2606efe26ffbce9",
   "display_name": "Python 3.6.8 64-bit"
  }
 },
 "nbformat": 4,
 "nbformat_minor": 2
}