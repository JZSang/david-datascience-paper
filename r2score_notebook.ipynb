{
 "cells": [
  {
   "cell_type": "code",
   "execution_count": 21,
   "metadata": {},
   "outputs": [],
   "source": [
    "import pandas as pd\n",
    "import numpy as np\n",
    "from SIRModel import *\n",
    "pd.set_option('display.float_format', lambda x: '%.3f' % x)\n",
    "df = pd.read_csv(\"./mean_score.csv\", index_col=0)\n",
    "log = lambda x: np.log(x) / np.log(10)"
   ]
  },
  {
   "cell_type": "code",
   "execution_count": 22,
   "metadata": {},
   "outputs": [
    {
     "output_type": "execute_result",
     "data": {
      "text/plain": "          COUNTY  R2SCOREBEFORE       R2SCOREAFTER\n0      Snohomish       7458.774   245947110546.035\n1       Maricopa       3138.992  4788270703528.690\n2    Los Angeles         42.928 11622636942632.436\n3    Santa Clara        309.679   806402433549.811\n4  San Francisco         12.671    39402225738.210",
      "text/html": "<div>\n<style scoped>\n    .dataframe tbody tr th:only-of-type {\n        vertical-align: middle;\n    }\n\n    .dataframe tbody tr th {\n        vertical-align: top;\n    }\n\n    .dataframe thead th {\n        text-align: right;\n    }\n</style>\n<table border=\"1\" class=\"dataframe\">\n  <thead>\n    <tr style=\"text-align: right;\">\n      <th></th>\n      <th>COUNTY</th>\n      <th>R2SCOREBEFORE</th>\n      <th>R2SCOREAFTER</th>\n    </tr>\n  </thead>\n  <tbody>\n    <tr>\n      <th>0</th>\n      <td>Snohomish</td>\n      <td>7458.774</td>\n      <td>245947110546.035</td>\n    </tr>\n    <tr>\n      <th>1</th>\n      <td>Maricopa</td>\n      <td>3138.992</td>\n      <td>4788270703528.690</td>\n    </tr>\n    <tr>\n      <th>2</th>\n      <td>Los Angeles</td>\n      <td>42.928</td>\n      <td>11622636942632.436</td>\n    </tr>\n    <tr>\n      <th>3</th>\n      <td>Santa Clara</td>\n      <td>309.679</td>\n      <td>806402433549.811</td>\n    </tr>\n    <tr>\n      <th>4</th>\n      <td>San Francisco</td>\n      <td>12.671</td>\n      <td>39402225738.210</td>\n    </tr>\n  </tbody>\n</table>\n</div>"
     },
     "metadata": {},
     "execution_count": 22
    }
   ],
   "source": [
    "df.head()"
   ]
  },
  {
   "cell_type": "code",
   "execution_count": 23,
   "metadata": {},
   "outputs": [],
   "source": [
    "df = df[df.R2SCOREBEFORE != df.R2SCOREAFTER]\n",
    "def cool_function(x):\n",
    "    array = np.array(x)\n",
    "    for i, item in enumerate(array):\n",
    "        if item >= 10:\n",
    "            array[i] = log(item)\n",
    "        elif 1 <= item <= 10:\n",
    "            array[i] = item/np.floor(item)\n",
    "        else:\n",
    "            array[i] = item\n",
    "    return array\n",
    "def cooler_function(x):\n",
    "    OldRange = (max(x) - min(x))  \n",
    "    NewRange = (0 - 1)  \n",
    "    NewValue = (((x - min(x)) * NewRange) / OldRange) +1\n",
    "    return NewValue"
   ]
  },
  {
   "cell_type": "code",
   "execution_count": 24,
   "metadata": {},
   "outputs": [],
   "source": [
    "df.R2SCOREBEFORE = (cool_function((df.R2SCOREBEFORE).astype(\"float64\")))\n",
    "df.R2SCOREAFTER =(cool_function(df.R2SCOREAFTER.astype(\"float64\")))"
   ]
  },
  {
   "cell_type": "code",
   "execution_count": 25,
   "metadata": {},
   "outputs": [],
   "source": [
    "df = df.sort_values(\"R2SCOREBEFORE\", ascending=False)"
   ]
  },
  {
   "cell_type": "code",
   "execution_count": 26,
   "metadata": {},
   "outputs": [
    {
     "output_type": "execute_result",
     "data": {
      "text/plain": "              COUNTY  R2SCOREBEFORE  R2SCOREAFTER\n54             Caddo          5.767         8.665\n51        Miami-Dade          5.239        12.440\n24           Broward          5.009        12.116\n107         Ouachita          4.926         8.441\n44      Philadelphia          3.992        11.921\n59        Palm Beach          3.902        11.779\n0          Snohomish          3.873        11.391\n30              Cobb          3.577        11.105\n1           Maricopa          3.497        12.680\n53            Bartow          3.290         9.434\n31          Gwinnett          2.933        11.186\n38            Collin          2.930        11.153\n7              Bexar          2.863        11.663\n56             Bucks          2.816        10.928\n40           Collier          2.795        10.366\n49           Tarrant          2.792        11.723\n20         Fort Bend          2.739        10.893\n39           Alachua          2.620         9.881\n42          Pinellas          2.562        11.152\n3        Santa Clara          2.491        11.907\n22            Washoe          2.316        10.412\n19              Wake          2.231        11.122\n16           Norfolk          2.182        10.744\n63            Gordon          1.987         6.479\n6          San Diego          1.936        11.515\n32           Fairfax          1.889        11.217\n60          Sarasota          1.855        10.111\n29           Volusia          1.835        10.206\n52         St. Johns          1.821         9.752\n9             Solano          1.779         8.860\n2        Los Angeles          1.633        13.065\n64       St. Charles          1.602        10.654\n37   Prince George's          1.491        11.135\n35              Pima          1.421        11.101\n15           Manatee          1.377         9.707\n28          Okaloosa          1.375         8.856\n62        Tuscaloosa          1.325         8.397\n10           Spokane          1.248         6.761\n17           Grafton          1.234         7.573\n41             Pasco          1.224         9.414\n5               Dane          1.158        10.289\n67       Pearl River          1.144         7.826\n55           Forrest          1.142         7.434\n12             Marin          1.138         4.026\n23             Pinal          1.135         9.565\n21        Santa Rosa          1.116         8.539\n4      San Francisco          1.103        10.596\n65            Copiah          1.097         3.758\n14            Sonoma          1.083         3.639\n58             Gregg          1.075         3.431\n8         Sacramento          1.074        10.348\n33           Harford          1.072         6.400\n66           Leflore          1.025         6.777\n61      Androscoggin          0.650         4.297\n13              Napa          0.005         3.263\n18       Walla Walla          0.005         3.364\n43          Charlton          0.005         1.738",
      "text/html": "<div>\n<style scoped>\n    .dataframe tbody tr th:only-of-type {\n        vertical-align: middle;\n    }\n\n    .dataframe tbody tr th {\n        vertical-align: top;\n    }\n\n    .dataframe thead th {\n        text-align: right;\n    }\n</style>\n<table border=\"1\" class=\"dataframe\">\n  <thead>\n    <tr style=\"text-align: right;\">\n      <th></th>\n      <th>COUNTY</th>\n      <th>R2SCOREBEFORE</th>\n      <th>R2SCOREAFTER</th>\n    </tr>\n  </thead>\n  <tbody>\n    <tr>\n      <th>54</th>\n      <td>Caddo</td>\n      <td>5.767</td>\n      <td>8.665</td>\n    </tr>\n    <tr>\n      <th>51</th>\n      <td>Miami-Dade</td>\n      <td>5.239</td>\n      <td>12.440</td>\n    </tr>\n    <tr>\n      <th>24</th>\n      <td>Broward</td>\n      <td>5.009</td>\n      <td>12.116</td>\n    </tr>\n    <tr>\n      <th>107</th>\n      <td>Ouachita</td>\n      <td>4.926</td>\n      <td>8.441</td>\n    </tr>\n    <tr>\n      <th>44</th>\n      <td>Philadelphia</td>\n      <td>3.992</td>\n      <td>11.921</td>\n    </tr>\n    <tr>\n      <th>59</th>\n      <td>Palm Beach</td>\n      <td>3.902</td>\n      <td>11.779</td>\n    </tr>\n    <tr>\n      <th>0</th>\n      <td>Snohomish</td>\n      <td>3.873</td>\n      <td>11.391</td>\n    </tr>\n    <tr>\n      <th>30</th>\n      <td>Cobb</td>\n      <td>3.577</td>\n      <td>11.105</td>\n    </tr>\n    <tr>\n      <th>1</th>\n      <td>Maricopa</td>\n      <td>3.497</td>\n      <td>12.680</td>\n    </tr>\n    <tr>\n      <th>53</th>\n      <td>Bartow</td>\n      <td>3.290</td>\n      <td>9.434</td>\n    </tr>\n    <tr>\n      <th>31</th>\n      <td>Gwinnett</td>\n      <td>2.933</td>\n      <td>11.186</td>\n    </tr>\n    <tr>\n      <th>38</th>\n      <td>Collin</td>\n      <td>2.930</td>\n      <td>11.153</td>\n    </tr>\n    <tr>\n      <th>7</th>\n      <td>Bexar</td>\n      <td>2.863</td>\n      <td>11.663</td>\n    </tr>\n    <tr>\n      <th>56</th>\n      <td>Bucks</td>\n      <td>2.816</td>\n      <td>10.928</td>\n    </tr>\n    <tr>\n      <th>40</th>\n      <td>Collier</td>\n      <td>2.795</td>\n      <td>10.366</td>\n    </tr>\n    <tr>\n      <th>49</th>\n      <td>Tarrant</td>\n      <td>2.792</td>\n      <td>11.723</td>\n    </tr>\n    <tr>\n      <th>20</th>\n      <td>Fort Bend</td>\n      <td>2.739</td>\n      <td>10.893</td>\n    </tr>\n    <tr>\n      <th>39</th>\n      <td>Alachua</td>\n      <td>2.620</td>\n      <td>9.881</td>\n    </tr>\n    <tr>\n      <th>42</th>\n      <td>Pinellas</td>\n      <td>2.562</td>\n      <td>11.152</td>\n    </tr>\n    <tr>\n      <th>3</th>\n      <td>Santa Clara</td>\n      <td>2.491</td>\n      <td>11.907</td>\n    </tr>\n    <tr>\n      <th>22</th>\n      <td>Washoe</td>\n      <td>2.316</td>\n      <td>10.412</td>\n    </tr>\n    <tr>\n      <th>19</th>\n      <td>Wake</td>\n      <td>2.231</td>\n      <td>11.122</td>\n    </tr>\n    <tr>\n      <th>16</th>\n      <td>Norfolk</td>\n      <td>2.182</td>\n      <td>10.744</td>\n    </tr>\n    <tr>\n      <th>63</th>\n      <td>Gordon</td>\n      <td>1.987</td>\n      <td>6.479</td>\n    </tr>\n    <tr>\n      <th>6</th>\n      <td>San Diego</td>\n      <td>1.936</td>\n      <td>11.515</td>\n    </tr>\n    <tr>\n      <th>32</th>\n      <td>Fairfax</td>\n      <td>1.889</td>\n      <td>11.217</td>\n    </tr>\n    <tr>\n      <th>60</th>\n      <td>Sarasota</td>\n      <td>1.855</td>\n      <td>10.111</td>\n    </tr>\n    <tr>\n      <th>29</th>\n      <td>Volusia</td>\n      <td>1.835</td>\n      <td>10.206</td>\n    </tr>\n    <tr>\n      <th>52</th>\n      <td>St. Johns</td>\n      <td>1.821</td>\n      <td>9.752</td>\n    </tr>\n    <tr>\n      <th>9</th>\n      <td>Solano</td>\n      <td>1.779</td>\n      <td>8.860</td>\n    </tr>\n    <tr>\n      <th>2</th>\n      <td>Los Angeles</td>\n      <td>1.633</td>\n      <td>13.065</td>\n    </tr>\n    <tr>\n      <th>64</th>\n      <td>St. Charles</td>\n      <td>1.602</td>\n      <td>10.654</td>\n    </tr>\n    <tr>\n      <th>37</th>\n      <td>Prince George's</td>\n      <td>1.491</td>\n      <td>11.135</td>\n    </tr>\n    <tr>\n      <th>35</th>\n      <td>Pima</td>\n      <td>1.421</td>\n      <td>11.101</td>\n    </tr>\n    <tr>\n      <th>15</th>\n      <td>Manatee</td>\n      <td>1.377</td>\n      <td>9.707</td>\n    </tr>\n    <tr>\n      <th>28</th>\n      <td>Okaloosa</td>\n      <td>1.375</td>\n      <td>8.856</td>\n    </tr>\n    <tr>\n      <th>62</th>\n      <td>Tuscaloosa</td>\n      <td>1.325</td>\n      <td>8.397</td>\n    </tr>\n    <tr>\n      <th>10</th>\n      <td>Spokane</td>\n      <td>1.248</td>\n      <td>6.761</td>\n    </tr>\n    <tr>\n      <th>17</th>\n      <td>Grafton</td>\n      <td>1.234</td>\n      <td>7.573</td>\n    </tr>\n    <tr>\n      <th>41</th>\n      <td>Pasco</td>\n      <td>1.224</td>\n      <td>9.414</td>\n    </tr>\n    <tr>\n      <th>5</th>\n      <td>Dane</td>\n      <td>1.158</td>\n      <td>10.289</td>\n    </tr>\n    <tr>\n      <th>67</th>\n      <td>Pearl River</td>\n      <td>1.144</td>\n      <td>7.826</td>\n    </tr>\n    <tr>\n      <th>55</th>\n      <td>Forrest</td>\n      <td>1.142</td>\n      <td>7.434</td>\n    </tr>\n    <tr>\n      <th>12</th>\n      <td>Marin</td>\n      <td>1.138</td>\n      <td>4.026</td>\n    </tr>\n    <tr>\n      <th>23</th>\n      <td>Pinal</td>\n      <td>1.135</td>\n      <td>9.565</td>\n    </tr>\n    <tr>\n      <th>21</th>\n      <td>Santa Rosa</td>\n      <td>1.116</td>\n      <td>8.539</td>\n    </tr>\n    <tr>\n      <th>4</th>\n      <td>San Francisco</td>\n      <td>1.103</td>\n      <td>10.596</td>\n    </tr>\n    <tr>\n      <th>65</th>\n      <td>Copiah</td>\n      <td>1.097</td>\n      <td>3.758</td>\n    </tr>\n    <tr>\n      <th>14</th>\n      <td>Sonoma</td>\n      <td>1.083</td>\n      <td>3.639</td>\n    </tr>\n    <tr>\n      <th>58</th>\n      <td>Gregg</td>\n      <td>1.075</td>\n      <td>3.431</td>\n    </tr>\n    <tr>\n      <th>8</th>\n      <td>Sacramento</td>\n      <td>1.074</td>\n      <td>10.348</td>\n    </tr>\n    <tr>\n      <th>33</th>\n      <td>Harford</td>\n      <td>1.072</td>\n      <td>6.400</td>\n    </tr>\n    <tr>\n      <th>66</th>\n      <td>Leflore</td>\n      <td>1.025</td>\n      <td>6.777</td>\n    </tr>\n    <tr>\n      <th>61</th>\n      <td>Androscoggin</td>\n      <td>0.650</td>\n      <td>4.297</td>\n    </tr>\n    <tr>\n      <th>13</th>\n      <td>Napa</td>\n      <td>0.005</td>\n      <td>3.263</td>\n    </tr>\n    <tr>\n      <th>18</th>\n      <td>Walla Walla</td>\n      <td>0.005</td>\n      <td>3.364</td>\n    </tr>\n    <tr>\n      <th>43</th>\n      <td>Charlton</td>\n      <td>0.005</td>\n      <td>1.738</td>\n    </tr>\n  </tbody>\n</table>\n</div>"
     },
     "metadata": {},
     "execution_count": 26
    }
   ],
   "source": [
    "df.head(57)"
   ]
  },
  {
   "cell_type": "code",
   "execution_count": 27,
   "metadata": {},
   "outputs": [
    {
     "output_type": "execute_result",
     "data": {
      "text/plain": "57"
     },
     "metadata": {},
     "execution_count": 27
    }
   ],
   "source": [
    "len(df)"
   ]
  },
  {
   "cell_type": "code",
   "execution_count": 28,
   "metadata": {},
   "outputs": [
    {
     "output_type": "execute_result",
     "data": {
      "text/plain": "R2SCOREBEFORE   2.095\nR2SCOREAFTER    9.179\ndtype: float64"
     },
     "metadata": {},
     "execution_count": 28
    }
   ],
   "source": [
    "df[df.R2SCOREBEFORE >= -1].mean()"
   ]
  },
  {
   "cell_type": "code",
   "execution_count": 29,
   "metadata": {},
   "outputs": [
    {
     "output_type": "execute_result",
     "data": {
      "text/plain": "0"
     },
     "metadata": {},
     "execution_count": 29
    }
   ],
   "source": [
    "len(df[df.R2SCOREBEFORE <= 0.001])"
   ]
  },
  {
   "cell_type": "code",
   "execution_count": 30,
   "metadata": {},
   "outputs": [
    {
     "output_type": "execute_result",
     "data": {
      "text/plain": "-0.739"
     },
     "metadata": {},
     "execution_count": 30
    }
   ],
   "source": [
    "0.783\n",
    "-0.739"
   ]
  }
 ],
 "metadata": {
  "language_info": {
   "codemirror_mode": {
    "name": "ipython",
    "version": 3
   },
   "file_extension": ".py",
   "mimetype": "text/x-python",
   "name": "python",
   "nbconvert_exporter": "python",
   "pygments_lexer": "ipython3",
   "version": "3.6.8-final"
  },
  "orig_nbformat": 2,
  "kernelspec": {
   "name": "python36864bitd09e43f2e4574358a2606efe26ffbce9",
   "display_name": "Python 3.6.8 64-bit"
  }
 },
 "nbformat": 4,
 "nbformat_minor": 2
}