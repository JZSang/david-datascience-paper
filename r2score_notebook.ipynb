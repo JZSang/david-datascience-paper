{
 "cells": [
  {
   "cell_type": "code",
   "execution_count": 338,
   "metadata": {},
   "outputs": [],
   "source": [
    "import pandas as pd\n",
    "import numpy as np\n",
    "from SIRModel import *\n",
    "pd.set_option('display.float_format', lambda x: '%.3f' % x)\n",
    "df = pd.read_csv(\"./mean_score.csv\", index_col=0)"
   ]
  },
  {
   "cell_type": "code",
   "execution_count": 339,
   "metadata": {},
   "outputs": [
    {
     "output_type": "execute_result",
     "data": {
      "text/plain": "          COUNTY  R2SCOREBEFORE       R2SCOREAFTER\n0      Snohomish       7458.774   245947110546.035\n1       Maricopa       3138.992  4788270703528.690\n2    Los Angeles         42.928 11622636942632.436\n3    Santa Clara        309.679   806402433549.811\n4  San Francisco         12.671    39402225738.210",
      "text/html": "<div>\n<style scoped>\n    .dataframe tbody tr th:only-of-type {\n        vertical-align: middle;\n    }\n\n    .dataframe tbody tr th {\n        vertical-align: top;\n    }\n\n    .dataframe thead th {\n        text-align: right;\n    }\n</style>\n<table border=\"1\" class=\"dataframe\">\n  <thead>\n    <tr style=\"text-align: right;\">\n      <th></th>\n      <th>COUNTY</th>\n      <th>R2SCOREBEFORE</th>\n      <th>R2SCOREAFTER</th>\n    </tr>\n  </thead>\n  <tbody>\n    <tr>\n      <th>0</th>\n      <td>Snohomish</td>\n      <td>7458.774</td>\n      <td>245947110546.035</td>\n    </tr>\n    <tr>\n      <th>1</th>\n      <td>Maricopa</td>\n      <td>3138.992</td>\n      <td>4788270703528.690</td>\n    </tr>\n    <tr>\n      <th>2</th>\n      <td>Los Angeles</td>\n      <td>42.928</td>\n      <td>11622636942632.436</td>\n    </tr>\n    <tr>\n      <th>3</th>\n      <td>Santa Clara</td>\n      <td>309.679</td>\n      <td>806402433549.811</td>\n    </tr>\n    <tr>\n      <th>4</th>\n      <td>San Francisco</td>\n      <td>12.671</td>\n      <td>39402225738.210</td>\n    </tr>\n  </tbody>\n</table>\n</div>"
     },
     "metadata": {},
     "execution_count": 339
    }
   ],
   "source": [
    "df.head()"
   ]
  },
  {
   "cell_type": "code",
   "execution_count": 340,
   "metadata": {},
   "outputs": [],
   "source": [
    "df = df[df.R2SCOREBEFORE != df.R2SCOREAFTER]\n",
    "def cool_function(x):\n",
    "    array = np.array(x)\n",
    "    for i, item in enumerate(array):\n",
    "        if item >= 10:\n",
    "            array[i] = np.log(item)\n",
    "        elif 1 <= item <= 10:\n",
    "            array[i] = item/np.floor(item)\n",
    "        else:\n",
    "            array[i] = item\n",
    "    return array\n",
    "def cooler_function(x):\n",
    "    OldRange = (max(x) - min(x))  \n",
    "    NewRange = (0 - 1)  \n",
    "    NewValue = (((x - min(x)) * NewRange) / OldRange) +1\n",
    "    return NewValue"
   ]
  },
  {
   "cell_type": "code",
   "execution_count": 341,
   "metadata": {},
   "outputs": [],
   "source": [
    "df.R2SCOREBEFORE = (cool_function((df.R2SCOREBEFORE).astype(\"float64\")))\n",
    "df.R2SCOREAFTER =(cool_function(df.R2SCOREAFTER.astype(\"float64\")))"
   ]
  },
  {
   "cell_type": "code",
   "execution_count": 342,
   "metadata": {},
   "outputs": [],
   "source": [
    "df = df.sort_values(\"R2SCOREBEFORE\", ascending=False)"
   ]
  },
  {
   "cell_type": "code",
   "execution_count": 343,
   "metadata": {},
   "outputs": [
    {
     "output_type": "execute_result",
     "data": {
      "text/plain": "              COUNTY  R2SCOREBEFORE  R2SCOREAFTER\n54             Caddo         13.278        19.952\n51        Miami-Dade         12.063        28.643\n24           Broward         11.535        27.897\n107         Ouachita         11.344        19.437\n44      Philadelphia          9.192        27.448\n59        Palm Beach          8.984        27.123\n0          Snohomish          8.917        26.228\n30              Cobb          8.237        25.569\n1           Maricopa          8.052        29.197\n53            Bartow          7.576        21.722\n31          Gwinnett          6.755        25.757\n38            Collin          6.746        25.680\n7              Bexar          6.592        26.855\n56             Bucks          6.485        25.162\n40           Collier          6.436        23.868\n49           Tarrant          6.429        26.993\n20         Fort Bend          6.306        25.082\n39           Alachua          6.032        22.751\n42          Pinellas          5.898        25.679\n3        Santa Clara          5.736        27.416\n22            Washoe          5.333        23.973\n19              Wake          5.136        25.609\n16           Norfolk          5.024        24.738\n6          San Diego          4.457        26.514\n32           Fairfax          4.349        25.827\n60          Sarasota          4.272        23.282\n29           Volusia          4.224        23.500\n52         St. Johns          4.193        22.455\n9             Solano          4.096        20.402\n2        Los Angeles          3.760        30.084\n64       St. Charles          3.689        24.531\n37   Prince George's          3.432        25.639\n35              Pima          3.272        25.561\n15           Manatee          3.170        22.352\n28          Okaloosa          3.165        20.392\n62        Tuscaloosa          3.050        19.335\n41             Pasco          2.818        21.676\n5               Dane          2.667        23.692\n67       Pearl River          2.633        18.020\n55           Forrest          2.630        17.117\n21        Santa Rosa          2.570        19.661\n4      San Francisco          2.539        24.397\n63            Gordon          1.987        14.918\n10           Spokane          1.248        15.568\n17           Grafton          1.234        17.438\n12             Marin          1.138         9.270\n23             Pinal          1.135        22.023\n65            Copiah          1.097         8.653\n14            Sonoma          1.083         8.380\n58             Gregg          1.075         7.900\n8         Sacramento          1.074        23.827\n33           Harford          1.072        14.736\n66           Leflore          1.025        15.606\n61      Androscoggin          0.650         9.894\n13              Napa          0.005         7.514\n18       Walla Walla          0.005         7.745\n43          Charlton          0.005         4.003",
      "text/html": "<div>\n<style scoped>\n    .dataframe tbody tr th:only-of-type {\n        vertical-align: middle;\n    }\n\n    .dataframe tbody tr th {\n        vertical-align: top;\n    }\n\n    .dataframe thead th {\n        text-align: right;\n    }\n</style>\n<table border=\"1\" class=\"dataframe\">\n  <thead>\n    <tr style=\"text-align: right;\">\n      <th></th>\n      <th>COUNTY</th>\n      <th>R2SCOREBEFORE</th>\n      <th>R2SCOREAFTER</th>\n    </tr>\n  </thead>\n  <tbody>\n    <tr>\n      <th>54</th>\n      <td>Caddo</td>\n      <td>13.278</td>\n      <td>19.952</td>\n    </tr>\n    <tr>\n      <th>51</th>\n      <td>Miami-Dade</td>\n      <td>12.063</td>\n      <td>28.643</td>\n    </tr>\n    <tr>\n      <th>24</th>\n      <td>Broward</td>\n      <td>11.535</td>\n      <td>27.897</td>\n    </tr>\n    <tr>\n      <th>107</th>\n      <td>Ouachita</td>\n      <td>11.344</td>\n      <td>19.437</td>\n    </tr>\n    <tr>\n      <th>44</th>\n      <td>Philadelphia</td>\n      <td>9.192</td>\n      <td>27.448</td>\n    </tr>\n    <tr>\n      <th>59</th>\n      <td>Palm Beach</td>\n      <td>8.984</td>\n      <td>27.123</td>\n    </tr>\n    <tr>\n      <th>0</th>\n      <td>Snohomish</td>\n      <td>8.917</td>\n      <td>26.228</td>\n    </tr>\n    <tr>\n      <th>30</th>\n      <td>Cobb</td>\n      <td>8.237</td>\n      <td>25.569</td>\n    </tr>\n    <tr>\n      <th>1</th>\n      <td>Maricopa</td>\n      <td>8.052</td>\n      <td>29.197</td>\n    </tr>\n    <tr>\n      <th>53</th>\n      <td>Bartow</td>\n      <td>7.576</td>\n      <td>21.722</td>\n    </tr>\n    <tr>\n      <th>31</th>\n      <td>Gwinnett</td>\n      <td>6.755</td>\n      <td>25.757</td>\n    </tr>\n    <tr>\n      <th>38</th>\n      <td>Collin</td>\n      <td>6.746</td>\n      <td>25.680</td>\n    </tr>\n    <tr>\n      <th>7</th>\n      <td>Bexar</td>\n      <td>6.592</td>\n      <td>26.855</td>\n    </tr>\n    <tr>\n      <th>56</th>\n      <td>Bucks</td>\n      <td>6.485</td>\n      <td>25.162</td>\n    </tr>\n    <tr>\n      <th>40</th>\n      <td>Collier</td>\n      <td>6.436</td>\n      <td>23.868</td>\n    </tr>\n    <tr>\n      <th>49</th>\n      <td>Tarrant</td>\n      <td>6.429</td>\n      <td>26.993</td>\n    </tr>\n    <tr>\n      <th>20</th>\n      <td>Fort Bend</td>\n      <td>6.306</td>\n      <td>25.082</td>\n    </tr>\n    <tr>\n      <th>39</th>\n      <td>Alachua</td>\n      <td>6.032</td>\n      <td>22.751</td>\n    </tr>\n    <tr>\n      <th>42</th>\n      <td>Pinellas</td>\n      <td>5.898</td>\n      <td>25.679</td>\n    </tr>\n    <tr>\n      <th>3</th>\n      <td>Santa Clara</td>\n      <td>5.736</td>\n      <td>27.416</td>\n    </tr>\n    <tr>\n      <th>22</th>\n      <td>Washoe</td>\n      <td>5.333</td>\n      <td>23.973</td>\n    </tr>\n    <tr>\n      <th>19</th>\n      <td>Wake</td>\n      <td>5.136</td>\n      <td>25.609</td>\n    </tr>\n    <tr>\n      <th>16</th>\n      <td>Norfolk</td>\n      <td>5.024</td>\n      <td>24.738</td>\n    </tr>\n    <tr>\n      <th>6</th>\n      <td>San Diego</td>\n      <td>4.457</td>\n      <td>26.514</td>\n    </tr>\n    <tr>\n      <th>32</th>\n      <td>Fairfax</td>\n      <td>4.349</td>\n      <td>25.827</td>\n    </tr>\n    <tr>\n      <th>60</th>\n      <td>Sarasota</td>\n      <td>4.272</td>\n      <td>23.282</td>\n    </tr>\n    <tr>\n      <th>29</th>\n      <td>Volusia</td>\n      <td>4.224</td>\n      <td>23.500</td>\n    </tr>\n    <tr>\n      <th>52</th>\n      <td>St. Johns</td>\n      <td>4.193</td>\n      <td>22.455</td>\n    </tr>\n    <tr>\n      <th>9</th>\n      <td>Solano</td>\n      <td>4.096</td>\n      <td>20.402</td>\n    </tr>\n    <tr>\n      <th>2</th>\n      <td>Los Angeles</td>\n      <td>3.760</td>\n      <td>30.084</td>\n    </tr>\n    <tr>\n      <th>64</th>\n      <td>St. Charles</td>\n      <td>3.689</td>\n      <td>24.531</td>\n    </tr>\n    <tr>\n      <th>37</th>\n      <td>Prince George's</td>\n      <td>3.432</td>\n      <td>25.639</td>\n    </tr>\n    <tr>\n      <th>35</th>\n      <td>Pima</td>\n      <td>3.272</td>\n      <td>25.561</td>\n    </tr>\n    <tr>\n      <th>15</th>\n      <td>Manatee</td>\n      <td>3.170</td>\n      <td>22.352</td>\n    </tr>\n    <tr>\n      <th>28</th>\n      <td>Okaloosa</td>\n      <td>3.165</td>\n      <td>20.392</td>\n    </tr>\n    <tr>\n      <th>62</th>\n      <td>Tuscaloosa</td>\n      <td>3.050</td>\n      <td>19.335</td>\n    </tr>\n    <tr>\n      <th>41</th>\n      <td>Pasco</td>\n      <td>2.818</td>\n      <td>21.676</td>\n    </tr>\n    <tr>\n      <th>5</th>\n      <td>Dane</td>\n      <td>2.667</td>\n      <td>23.692</td>\n    </tr>\n    <tr>\n      <th>67</th>\n      <td>Pearl River</td>\n      <td>2.633</td>\n      <td>18.020</td>\n    </tr>\n    <tr>\n      <th>55</th>\n      <td>Forrest</td>\n      <td>2.630</td>\n      <td>17.117</td>\n    </tr>\n    <tr>\n      <th>21</th>\n      <td>Santa Rosa</td>\n      <td>2.570</td>\n      <td>19.661</td>\n    </tr>\n    <tr>\n      <th>4</th>\n      <td>San Francisco</td>\n      <td>2.539</td>\n      <td>24.397</td>\n    </tr>\n    <tr>\n      <th>63</th>\n      <td>Gordon</td>\n      <td>1.987</td>\n      <td>14.918</td>\n    </tr>\n    <tr>\n      <th>10</th>\n      <td>Spokane</td>\n      <td>1.248</td>\n      <td>15.568</td>\n    </tr>\n    <tr>\n      <th>17</th>\n      <td>Grafton</td>\n      <td>1.234</td>\n      <td>17.438</td>\n    </tr>\n    <tr>\n      <th>12</th>\n      <td>Marin</td>\n      <td>1.138</td>\n      <td>9.270</td>\n    </tr>\n    <tr>\n      <th>23</th>\n      <td>Pinal</td>\n      <td>1.135</td>\n      <td>22.023</td>\n    </tr>\n    <tr>\n      <th>65</th>\n      <td>Copiah</td>\n      <td>1.097</td>\n      <td>8.653</td>\n    </tr>\n    <tr>\n      <th>14</th>\n      <td>Sonoma</td>\n      <td>1.083</td>\n      <td>8.380</td>\n    </tr>\n    <tr>\n      <th>58</th>\n      <td>Gregg</td>\n      <td>1.075</td>\n      <td>7.900</td>\n    </tr>\n    <tr>\n      <th>8</th>\n      <td>Sacramento</td>\n      <td>1.074</td>\n      <td>23.827</td>\n    </tr>\n    <tr>\n      <th>33</th>\n      <td>Harford</td>\n      <td>1.072</td>\n      <td>14.736</td>\n    </tr>\n    <tr>\n      <th>66</th>\n      <td>Leflore</td>\n      <td>1.025</td>\n      <td>15.606</td>\n    </tr>\n    <tr>\n      <th>61</th>\n      <td>Androscoggin</td>\n      <td>0.650</td>\n      <td>9.894</td>\n    </tr>\n    <tr>\n      <th>13</th>\n      <td>Napa</td>\n      <td>0.005</td>\n      <td>7.514</td>\n    </tr>\n    <tr>\n      <th>18</th>\n      <td>Walla Walla</td>\n      <td>0.005</td>\n      <td>7.745</td>\n    </tr>\n    <tr>\n      <th>43</th>\n      <td>Charlton</td>\n      <td>0.005</td>\n      <td>4.003</td>\n    </tr>\n  </tbody>\n</table>\n</div>"
     },
     "metadata": {},
     "execution_count": 343
    }
   ],
   "source": [
    "df.head(57)"
   ]
  },
  {
   "cell_type": "code",
   "execution_count": 344,
   "metadata": {},
   "outputs": [
    {
     "output_type": "execute_result",
     "data": {
      "text/plain": "57"
     },
     "metadata": {},
     "execution_count": 344
    }
   ],
   "source": [
    "len(df)"
   ]
  },
  {
   "cell_type": "code",
   "execution_count": 345,
   "metadata": {},
   "outputs": [
    {
     "output_type": "execute_result",
     "data": {
      "text/plain": "R2SCOREBEFORE    4.507\nR2SCOREAFTER    21.135\ndtype: float64"
     },
     "metadata": {},
     "execution_count": 345
    }
   ],
   "source": [
    "df[df.R2SCOREBEFORE >= -1].mean()"
   ]
  },
  {
   "cell_type": "code",
   "execution_count": 346,
   "metadata": {},
   "outputs": [
    {
     "output_type": "execute_result",
     "data": {
      "text/plain": "0"
     },
     "metadata": {},
     "execution_count": 346
    }
   ],
   "source": [
    "len(df[df.R2SCOREBEFORE <= 0.001])"
   ]
  }
 ],
 "metadata": {
  "language_info": {
   "codemirror_mode": {
    "name": "ipython",
    "version": 3
   },
   "file_extension": ".py",
   "mimetype": "text/x-python",
   "name": "python",
   "nbconvert_exporter": "python",
   "pygments_lexer": "ipython3",
   "version": "3.6.8-final"
  },
  "orig_nbformat": 2,
  "kernelspec": {
   "name": "python36864bitd09e43f2e4574358a2606efe26ffbce9",
   "display_name": "Python 3.6.8 64-bit"
  }
 },
 "nbformat": 4,
 "nbformat_minor": 2
}