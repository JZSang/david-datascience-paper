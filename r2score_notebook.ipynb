{
 "cells": [
  {
   "cell_type": "code",
   "execution_count": 153,
   "metadata": {},
   "outputs": [],
   "source": [
    "import pandas as pd\n",
    "import numpy as np\n",
    "from SIRModel import *\n",
    "pd.set_option('display.float_format', lambda x: '%.3f' % x)\n",
    "df = pd.read_csv(\"./r2_score.csv\", index_col=0)\n"
   ]
  },
  {
   "cell_type": "code",
   "execution_count": 154,
   "metadata": {},
   "outputs": [],
   "source": [
    "df = df[df.R2SCOREBEFORE != df.R2SCOREAFTER]\n",
    "def cool_function(x):\n",
    "    array = np.array(x)\n",
    "    for i, item in enumerate(array):\n",
    "        if item <= -10:\n",
    "            array[i] = -np.log(-item)\n",
    "        elif -1 >= item > -10:\n",
    "            array[i] = -item/np.floor(item)\n",
    "        else:\n",
    "            array[i] = item\n",
    "    return array\n",
    "def cooler_function(x):\n",
    "    OldRange = (max(x) - min(x))  \n",
    "    NewRange = (0 + 1)  \n",
    "    NewValue = (((x - min(x)) * NewRange) / OldRange) -1\n",
    "    return NewValue"
   ]
  },
  {
   "cell_type": "code",
   "execution_count": 155,
   "metadata": {},
   "outputs": [],
   "source": [
    "df.R2SCOREBEFORE = (cool_function((df.R2SCOREBEFORE).astype(\"float64\")))\n",
    "df.R2SCOREAFTER = cooler_function(cool_function(df.R2SCOREAFTER.astype(\"float64\")))"
   ]
  },
  {
   "cell_type": "code",
   "execution_count": 156,
   "metadata": {},
   "outputs": [],
   "source": [
    "df = df.sort_values(\"R2SCOREBEFORE\", ascending=False)"
   ]
  },
  {
   "cell_type": "code",
   "execution_count": 160,
   "metadata": {},
   "outputs": [
    {
     "output_type": "execute_result",
     "data": {
      "text/plain": "              COUNTY  R2SCOREBEFORE  R2SCOREAFTER\n37   Prince George's          0.993        -0.675\n35              Pima          0.991        -0.909\n2        Los Angeles          0.983        -0.811\n32           Fairfax          0.974        -0.751\n5               Dane          0.973        -0.943\n23             Pinal          0.973        -0.809\n15           Manatee          0.954        -0.790\n17           Grafton          0.953        -0.824\n21        Santa Rosa          0.949        -0.805\n41             Pasco          0.949        -0.871\n8         Sacramento          0.949        -0.819\n4      San Francisco          0.948        -0.805\n63            Gordon          0.943        -0.538\n42          Pinellas          0.937        -1.000\n44      Philadelphia          0.936        -0.704\n61      Androscoggin          0.935        -0.257\n60          Sarasota          0.932        -0.934\n52         St. Johns          0.932        -0.963\n56             Bucks          0.931        -0.758\n29           Volusia          0.927        -0.910\n1           Maricopa          0.926        -0.984\n19              Wake          0.905        -0.975\n31          Gwinnett          0.899        -0.867\n28          Okaloosa          0.896        -0.863\n3        Santa Clara          0.884        -0.972\n67       Pearl River          0.881        -0.685\n49           Tarrant          0.881        -0.901\n65            Copiah          0.881        -0.101\n22            Washoe          0.870        -0.851\n62        Tuscaloosa          0.857        -0.727\n6          San Diego          0.848        -0.824\n59        Palm Beach          0.841        -0.897\n7              Bexar          0.831        -0.974\n33           Harford          0.824        -0.310\n14            Sonoma          0.801         0.000\n10           Spokane          0.796        -0.415\n40           Collier          0.791        -0.899\n55           Forrest          0.786        -0.564\n20         Fort Bend          0.773        -0.896\n51        Miami-Dade          0.772        -0.819\n66           Leflore          0.768        -0.522\n16           Norfolk          0.757        -0.648\n38            Collin          0.756        -0.995\n64       St. Charles          0.730        -0.962\n0          Snohomish          0.676        -0.875\n30              Cobb          0.647        -0.872\n58             Gregg          0.637        -0.080\n39           Alachua          0.580        -0.947\n24           Broward          0.557        -0.891\n12             Marin          0.477        -0.051\n53            Bartow          0.167        -0.867\n54             Caddo         -0.533        -0.501\n107         Ouachita         -0.710        -0.569",
      "text/html": "<div>\n<style scoped>\n    .dataframe tbody tr th:only-of-type {\n        vertical-align: middle;\n    }\n\n    .dataframe tbody tr th {\n        vertical-align: top;\n    }\n\n    .dataframe thead th {\n        text-align: right;\n    }\n</style>\n<table border=\"1\" class=\"dataframe\">\n  <thead>\n    <tr style=\"text-align: right;\">\n      <th></th>\n      <th>COUNTY</th>\n      <th>R2SCOREBEFORE</th>\n      <th>R2SCOREAFTER</th>\n    </tr>\n  </thead>\n  <tbody>\n    <tr>\n      <th>37</th>\n      <td>Prince George's</td>\n      <td>0.993</td>\n      <td>-0.675</td>\n    </tr>\n    <tr>\n      <th>35</th>\n      <td>Pima</td>\n      <td>0.991</td>\n      <td>-0.909</td>\n    </tr>\n    <tr>\n      <th>2</th>\n      <td>Los Angeles</td>\n      <td>0.983</td>\n      <td>-0.811</td>\n    </tr>\n    <tr>\n      <th>32</th>\n      <td>Fairfax</td>\n      <td>0.974</td>\n      <td>-0.751</td>\n    </tr>\n    <tr>\n      <th>5</th>\n      <td>Dane</td>\n      <td>0.973</td>\n      <td>-0.943</td>\n    </tr>\n    <tr>\n      <th>23</th>\n      <td>Pinal</td>\n      <td>0.973</td>\n      <td>-0.809</td>\n    </tr>\n    <tr>\n      <th>15</th>\n      <td>Manatee</td>\n      <td>0.954</td>\n      <td>-0.790</td>\n    </tr>\n    <tr>\n      <th>17</th>\n      <td>Grafton</td>\n      <td>0.953</td>\n      <td>-0.824</td>\n    </tr>\n    <tr>\n      <th>21</th>\n      <td>Santa Rosa</td>\n      <td>0.949</td>\n      <td>-0.805</td>\n    </tr>\n    <tr>\n      <th>41</th>\n      <td>Pasco</td>\n      <td>0.949</td>\n      <td>-0.871</td>\n    </tr>\n    <tr>\n      <th>8</th>\n      <td>Sacramento</td>\n      <td>0.949</td>\n      <td>-0.819</td>\n    </tr>\n    <tr>\n      <th>4</th>\n      <td>San Francisco</td>\n      <td>0.948</td>\n      <td>-0.805</td>\n    </tr>\n    <tr>\n      <th>63</th>\n      <td>Gordon</td>\n      <td>0.943</td>\n      <td>-0.538</td>\n    </tr>\n    <tr>\n      <th>42</th>\n      <td>Pinellas</td>\n      <td>0.937</td>\n      <td>-1.000</td>\n    </tr>\n    <tr>\n      <th>44</th>\n      <td>Philadelphia</td>\n      <td>0.936</td>\n      <td>-0.704</td>\n    </tr>\n    <tr>\n      <th>61</th>\n      <td>Androscoggin</td>\n      <td>0.935</td>\n      <td>-0.257</td>\n    </tr>\n    <tr>\n      <th>60</th>\n      <td>Sarasota</td>\n      <td>0.932</td>\n      <td>-0.934</td>\n    </tr>\n    <tr>\n      <th>52</th>\n      <td>St. Johns</td>\n      <td>0.932</td>\n      <td>-0.963</td>\n    </tr>\n    <tr>\n      <th>56</th>\n      <td>Bucks</td>\n      <td>0.931</td>\n      <td>-0.758</td>\n    </tr>\n    <tr>\n      <th>29</th>\n      <td>Volusia</td>\n      <td>0.927</td>\n      <td>-0.910</td>\n    </tr>\n    <tr>\n      <th>1</th>\n      <td>Maricopa</td>\n      <td>0.926</td>\n      <td>-0.984</td>\n    </tr>\n    <tr>\n      <th>19</th>\n      <td>Wake</td>\n      <td>0.905</td>\n      <td>-0.975</td>\n    </tr>\n    <tr>\n      <th>31</th>\n      <td>Gwinnett</td>\n      <td>0.899</td>\n      <td>-0.867</td>\n    </tr>\n    <tr>\n      <th>28</th>\n      <td>Okaloosa</td>\n      <td>0.896</td>\n      <td>-0.863</td>\n    </tr>\n    <tr>\n      <th>3</th>\n      <td>Santa Clara</td>\n      <td>0.884</td>\n      <td>-0.972</td>\n    </tr>\n    <tr>\n      <th>67</th>\n      <td>Pearl River</td>\n      <td>0.881</td>\n      <td>-0.685</td>\n    </tr>\n    <tr>\n      <th>49</th>\n      <td>Tarrant</td>\n      <td>0.881</td>\n      <td>-0.901</td>\n    </tr>\n    <tr>\n      <th>65</th>\n      <td>Copiah</td>\n      <td>0.881</td>\n      <td>-0.101</td>\n    </tr>\n    <tr>\n      <th>22</th>\n      <td>Washoe</td>\n      <td>0.870</td>\n      <td>-0.851</td>\n    </tr>\n    <tr>\n      <th>62</th>\n      <td>Tuscaloosa</td>\n      <td>0.857</td>\n      <td>-0.727</td>\n    </tr>\n    <tr>\n      <th>6</th>\n      <td>San Diego</td>\n      <td>0.848</td>\n      <td>-0.824</td>\n    </tr>\n    <tr>\n      <th>59</th>\n      <td>Palm Beach</td>\n      <td>0.841</td>\n      <td>-0.897</td>\n    </tr>\n    <tr>\n      <th>7</th>\n      <td>Bexar</td>\n      <td>0.831</td>\n      <td>-0.974</td>\n    </tr>\n    <tr>\n      <th>33</th>\n      <td>Harford</td>\n      <td>0.824</td>\n      <td>-0.310</td>\n    </tr>\n    <tr>\n      <th>14</th>\n      <td>Sonoma</td>\n      <td>0.801</td>\n      <td>0.000</td>\n    </tr>\n    <tr>\n      <th>10</th>\n      <td>Spokane</td>\n      <td>0.796</td>\n      <td>-0.415</td>\n    </tr>\n    <tr>\n      <th>40</th>\n      <td>Collier</td>\n      <td>0.791</td>\n      <td>-0.899</td>\n    </tr>\n    <tr>\n      <th>55</th>\n      <td>Forrest</td>\n      <td>0.786</td>\n      <td>-0.564</td>\n    </tr>\n    <tr>\n      <th>20</th>\n      <td>Fort Bend</td>\n      <td>0.773</td>\n      <td>-0.896</td>\n    </tr>\n    <tr>\n      <th>51</th>\n      <td>Miami-Dade</td>\n      <td>0.772</td>\n      <td>-0.819</td>\n    </tr>\n    <tr>\n      <th>66</th>\n      <td>Leflore</td>\n      <td>0.768</td>\n      <td>-0.522</td>\n    </tr>\n    <tr>\n      <th>16</th>\n      <td>Norfolk</td>\n      <td>0.757</td>\n      <td>-0.648</td>\n    </tr>\n    <tr>\n      <th>38</th>\n      <td>Collin</td>\n      <td>0.756</td>\n      <td>-0.995</td>\n    </tr>\n    <tr>\n      <th>64</th>\n      <td>St. Charles</td>\n      <td>0.730</td>\n      <td>-0.962</td>\n    </tr>\n    <tr>\n      <th>0</th>\n      <td>Snohomish</td>\n      <td>0.676</td>\n      <td>-0.875</td>\n    </tr>\n    <tr>\n      <th>30</th>\n      <td>Cobb</td>\n      <td>0.647</td>\n      <td>-0.872</td>\n    </tr>\n    <tr>\n      <th>58</th>\n      <td>Gregg</td>\n      <td>0.637</td>\n      <td>-0.080</td>\n    </tr>\n    <tr>\n      <th>39</th>\n      <td>Alachua</td>\n      <td>0.580</td>\n      <td>-0.947</td>\n    </tr>\n    <tr>\n      <th>24</th>\n      <td>Broward</td>\n      <td>0.557</td>\n      <td>-0.891</td>\n    </tr>\n    <tr>\n      <th>12</th>\n      <td>Marin</td>\n      <td>0.477</td>\n      <td>-0.051</td>\n    </tr>\n    <tr>\n      <th>53</th>\n      <td>Bartow</td>\n      <td>0.167</td>\n      <td>-0.867</td>\n    </tr>\n    <tr>\n      <th>54</th>\n      <td>Caddo</td>\n      <td>-0.533</td>\n      <td>-0.501</td>\n    </tr>\n    <tr>\n      <th>107</th>\n      <td>Ouachita</td>\n      <td>-0.710</td>\n      <td>-0.569</td>\n    </tr>\n  </tbody>\n</table>\n</div>"
     },
     "metadata": {},
     "execution_count": 160
    }
   ],
   "source": [
    "df[df.R2SCOREBEFORE >= -1].head(57)"
   ]
  },
  {
   "cell_type": "code",
   "execution_count": 158,
   "metadata": {},
   "outputs": [
    {
     "output_type": "execute_result",
     "data": {
      "text/plain": "57"
     },
     "metadata": {},
     "execution_count": 158
    }
   ],
   "source": [
    "len(df)"
   ]
  },
  {
   "cell_type": "code",
   "execution_count": null,
   "metadata": {},
   "outputs": [],
   "source": []
  }
 ],
 "metadata": {
  "language_info": {
   "codemirror_mode": {
    "name": "ipython",
    "version": 3
   },
   "file_extension": ".py",
   "mimetype": "text/x-python",
   "name": "python",
   "nbconvert_exporter": "python",
   "pygments_lexer": "ipython3",
   "version": "3.6.8-final"
  },
  "orig_nbformat": 2,
  "kernelspec": {
   "name": "python36864bitd09e43f2e4574358a2606efe26ffbce9",
   "display_name": "Python 3.6.8 64-bit"
  }
 },
 "nbformat": 4,
 "nbformat_minor": 2
}