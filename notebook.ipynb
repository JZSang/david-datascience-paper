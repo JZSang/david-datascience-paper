{
 "cells": [
  {
   "cell_type": "code",
   "execution_count": 1,
   "metadata": {},
   "outputs": [
    {
     "output_type": "stream",
     "name": "stdout",
     "text": "./data/US_counties_COVID19_health_weather_data.csv\n"
    }
   ],
   "source": [
    "import numpy as np\n",
    "import matplotlib.pyplot as plt\n",
    "import pandas as pd\n",
    "from statsmodels.tsa.stattools import grangercausalitytests\n",
    "\n",
    "import os\n",
    "for dirname, _, filenames in os.walk('./data'):\n",
    "    for filename in filenames:\n",
    "        print(os.path.join(dirname, filename))"
   ]
  },
  {
   "cell_type": "code",
   "execution_count": 2,
   "metadata": {},
   "outputs": [],
   "source": [
    "us_records = pd.read_csv(\"./data/US_counties_COVID19_health_weather_data.csv\")\n"
   ]
  },
  {
   "cell_type": "code",
   "execution_count": 6,
   "metadata": {},
   "outputs": [
    {
     "output_type": "execute_result",
     "data": {
      "text/plain": "              date      county          state   fips  cases  deaths  \\\n142727  2020-05-14      Taylor  West Virginia  54091      8       0   \n142728  2020-05-14      Tucker  West Virginia  54093      4       0   \n142729  2020-05-14       Tyler  West Virginia  54095      3       0   \n142730  2020-05-14      Upshur  West Virginia  54097      6       0   \n142731  2020-05-14       Wayne  West Virginia  54099     95       8   \n...            ...         ...            ...    ...    ...     ...   \n142822  2020-05-14    Sublette        Wyoming  56035      3       0   \n142823  2020-05-14  Sweetwater        Wyoming  56037     21       0   \n142824  2020-05-14       Teton        Wyoming  56039     99       1   \n142825  2020-05-14       Uinta        Wyoming  56041      9       0   \n142826  2020-05-14    Washakie        Wyoming  56043      7       0   \n\n       stay_at_home_announced stay_at_home_effective        lat         lon  \\\n142727                    yes                    yes  39.335987  -80.046188   \n142728                    yes                    yes  39.113601  -79.564988   \n142729                    yes                    yes  39.465283  -80.884842   \n142730                    yes                    yes  38.897859  -80.233439   \n142731                    yes                    yes  38.146010  -82.426972   \n...                       ...                    ...        ...         ...   \n142822                     no                     no  42.766905 -109.914721   \n142823                     no                     no  41.659538 -108.879567   \n142824                     no                     no  43.934776 -110.589759   \n142825                     no                     no  41.287648 -110.547639   \n142826                     no                     no  43.904970 -107.682819   \n\n        ...  min_temp_3d_avg  min_temp_5d_avg  min_temp_10d_avg  \\\n142727  ...              NaN              NaN               NaN   \n142728  ...              NaN              NaN               NaN   \n142729  ...              NaN              NaN               NaN   \n142730  ...              NaN              NaN               NaN   \n142731  ...              NaN              NaN               NaN   \n...     ...              ...              ...               ...   \n142822  ...              NaN              NaN               NaN   \n142823  ...              NaN              NaN               NaN   \n142824  ...              NaN              NaN               NaN   \n142825  ...              NaN              NaN               NaN   \n142826  ...              NaN              NaN               NaN   \n\n        min_temp_15d_avg  dewpoint_3d_avg  dewpoint_5d_avg  dewpoint_10d_avg  \\\n142727               NaN              NaN              NaN               NaN   \n142728               NaN              NaN              NaN               NaN   \n142729               NaN              NaN              NaN               NaN   \n142730               NaN              NaN              NaN               NaN   \n142731               NaN              NaN              NaN               NaN   \n...                  ...              ...              ...               ...   \n142822               NaN              NaN              NaN               NaN   \n142823               NaN              NaN              NaN               NaN   \n142824               NaN              NaN              NaN               NaN   \n142825               NaN              NaN              NaN               NaN   \n142826               NaN              NaN              NaN               NaN   \n\n        dewpoint_15d_avg  date_stay_at_home_announced  \\\n142727               NaN                   2020-03-23   \n142728               NaN                   2020-03-23   \n142729               NaN                   2020-03-23   \n142730               NaN                   2020-03-23   \n142731               NaN                   2020-03-23   \n...                  ...                          ...   \n142822               NaN                          NaN   \n142823               NaN                          NaN   \n142824               NaN                          NaN   \n142825               NaN                          NaN   \n142826               NaN                          NaN   \n\n        date_stay_at_home_effective  \n142727                   2020-03-24  \n142728                   2020-03-24  \n142729                   2020-03-24  \n142730                   2020-03-24  \n142731                   2020-03-24  \n...                             ...  \n142822                          NaN  \n142823                          NaN  \n142824                          NaN  \n142825                          NaN  \n142826                          NaN  \n\n[100 rows x 227 columns]",
      "text/html": "<div>\n<style scoped>\n    .dataframe tbody tr th:only-of-type {\n        vertical-align: middle;\n    }\n\n    .dataframe tbody tr th {\n        vertical-align: top;\n    }\n\n    .dataframe thead th {\n        text-align: right;\n    }\n</style>\n<table border=\"1\" class=\"dataframe\">\n  <thead>\n    <tr style=\"text-align: right;\">\n      <th></th>\n      <th>date</th>\n      <th>county</th>\n      <th>state</th>\n      <th>fips</th>\n      <th>cases</th>\n      <th>deaths</th>\n      <th>stay_at_home_announced</th>\n      <th>stay_at_home_effective</th>\n      <th>lat</th>\n      <th>lon</th>\n      <th>...</th>\n      <th>min_temp_3d_avg</th>\n      <th>min_temp_5d_avg</th>\n      <th>min_temp_10d_avg</th>\n      <th>min_temp_15d_avg</th>\n      <th>dewpoint_3d_avg</th>\n      <th>dewpoint_5d_avg</th>\n      <th>dewpoint_10d_avg</th>\n      <th>dewpoint_15d_avg</th>\n      <th>date_stay_at_home_announced</th>\n      <th>date_stay_at_home_effective</th>\n    </tr>\n  </thead>\n  <tbody>\n    <tr>\n      <th>142727</th>\n      <td>2020-05-14</td>\n      <td>Taylor</td>\n      <td>West Virginia</td>\n      <td>54091</td>\n      <td>8</td>\n      <td>0</td>\n      <td>yes</td>\n      <td>yes</td>\n      <td>39.335987</td>\n      <td>-80.046188</td>\n      <td>...</td>\n      <td>NaN</td>\n      <td>NaN</td>\n      <td>NaN</td>\n      <td>NaN</td>\n      <td>NaN</td>\n      <td>NaN</td>\n      <td>NaN</td>\n      <td>NaN</td>\n      <td>2020-03-23</td>\n      <td>2020-03-24</td>\n    </tr>\n    <tr>\n      <th>142728</th>\n      <td>2020-05-14</td>\n      <td>Tucker</td>\n      <td>West Virginia</td>\n      <td>54093</td>\n      <td>4</td>\n      <td>0</td>\n      <td>yes</td>\n      <td>yes</td>\n      <td>39.113601</td>\n      <td>-79.564988</td>\n      <td>...</td>\n      <td>NaN</td>\n      <td>NaN</td>\n      <td>NaN</td>\n      <td>NaN</td>\n      <td>NaN</td>\n      <td>NaN</td>\n      <td>NaN</td>\n      <td>NaN</td>\n      <td>2020-03-23</td>\n      <td>2020-03-24</td>\n    </tr>\n    <tr>\n      <th>142729</th>\n      <td>2020-05-14</td>\n      <td>Tyler</td>\n      <td>West Virginia</td>\n      <td>54095</td>\n      <td>3</td>\n      <td>0</td>\n      <td>yes</td>\n      <td>yes</td>\n      <td>39.465283</td>\n      <td>-80.884842</td>\n      <td>...</td>\n      <td>NaN</td>\n      <td>NaN</td>\n      <td>NaN</td>\n      <td>NaN</td>\n      <td>NaN</td>\n      <td>NaN</td>\n      <td>NaN</td>\n      <td>NaN</td>\n      <td>2020-03-23</td>\n      <td>2020-03-24</td>\n    </tr>\n    <tr>\n      <th>142730</th>\n      <td>2020-05-14</td>\n      <td>Upshur</td>\n      <td>West Virginia</td>\n      <td>54097</td>\n      <td>6</td>\n      <td>0</td>\n      <td>yes</td>\n      <td>yes</td>\n      <td>38.897859</td>\n      <td>-80.233439</td>\n      <td>...</td>\n      <td>NaN</td>\n      <td>NaN</td>\n      <td>NaN</td>\n      <td>NaN</td>\n      <td>NaN</td>\n      <td>NaN</td>\n      <td>NaN</td>\n      <td>NaN</td>\n      <td>2020-03-23</td>\n      <td>2020-03-24</td>\n    </tr>\n    <tr>\n      <th>142731</th>\n      <td>2020-05-14</td>\n      <td>Wayne</td>\n      <td>West Virginia</td>\n      <td>54099</td>\n      <td>95</td>\n      <td>8</td>\n      <td>yes</td>\n      <td>yes</td>\n      <td>38.146010</td>\n      <td>-82.426972</td>\n      <td>...</td>\n      <td>NaN</td>\n      <td>NaN</td>\n      <td>NaN</td>\n      <td>NaN</td>\n      <td>NaN</td>\n      <td>NaN</td>\n      <td>NaN</td>\n      <td>NaN</td>\n      <td>2020-03-23</td>\n      <td>2020-03-24</td>\n    </tr>\n    <tr>\n      <th>...</th>\n      <td>...</td>\n      <td>...</td>\n      <td>...</td>\n      <td>...</td>\n      <td>...</td>\n      <td>...</td>\n      <td>...</td>\n      <td>...</td>\n      <td>...</td>\n      <td>...</td>\n      <td>...</td>\n      <td>...</td>\n      <td>...</td>\n      <td>...</td>\n      <td>...</td>\n      <td>...</td>\n      <td>...</td>\n      <td>...</td>\n      <td>...</td>\n      <td>...</td>\n      <td>...</td>\n    </tr>\n    <tr>\n      <th>142822</th>\n      <td>2020-05-14</td>\n      <td>Sublette</td>\n      <td>Wyoming</td>\n      <td>56035</td>\n      <td>3</td>\n      <td>0</td>\n      <td>no</td>\n      <td>no</td>\n      <td>42.766905</td>\n      <td>-109.914721</td>\n      <td>...</td>\n      <td>NaN</td>\n      <td>NaN</td>\n      <td>NaN</td>\n      <td>NaN</td>\n      <td>NaN</td>\n      <td>NaN</td>\n      <td>NaN</td>\n      <td>NaN</td>\n      <td>NaN</td>\n      <td>NaN</td>\n    </tr>\n    <tr>\n      <th>142823</th>\n      <td>2020-05-14</td>\n      <td>Sweetwater</td>\n      <td>Wyoming</td>\n      <td>56037</td>\n      <td>21</td>\n      <td>0</td>\n      <td>no</td>\n      <td>no</td>\n      <td>41.659538</td>\n      <td>-108.879567</td>\n      <td>...</td>\n      <td>NaN</td>\n      <td>NaN</td>\n      <td>NaN</td>\n      <td>NaN</td>\n      <td>NaN</td>\n      <td>NaN</td>\n      <td>NaN</td>\n      <td>NaN</td>\n      <td>NaN</td>\n      <td>NaN</td>\n    </tr>\n    <tr>\n      <th>142824</th>\n      <td>2020-05-14</td>\n      <td>Teton</td>\n      <td>Wyoming</td>\n      <td>56039</td>\n      <td>99</td>\n      <td>1</td>\n      <td>no</td>\n      <td>no</td>\n      <td>43.934776</td>\n      <td>-110.589759</td>\n      <td>...</td>\n      <td>NaN</td>\n      <td>NaN</td>\n      <td>NaN</td>\n      <td>NaN</td>\n      <td>NaN</td>\n      <td>NaN</td>\n      <td>NaN</td>\n      <td>NaN</td>\n      <td>NaN</td>\n      <td>NaN</td>\n    </tr>\n    <tr>\n      <th>142825</th>\n      <td>2020-05-14</td>\n      <td>Uinta</td>\n      <td>Wyoming</td>\n      <td>56041</td>\n      <td>9</td>\n      <td>0</td>\n      <td>no</td>\n      <td>no</td>\n      <td>41.287648</td>\n      <td>-110.547639</td>\n      <td>...</td>\n      <td>NaN</td>\n      <td>NaN</td>\n      <td>NaN</td>\n      <td>NaN</td>\n      <td>NaN</td>\n      <td>NaN</td>\n      <td>NaN</td>\n      <td>NaN</td>\n      <td>NaN</td>\n      <td>NaN</td>\n    </tr>\n    <tr>\n      <th>142826</th>\n      <td>2020-05-14</td>\n      <td>Washakie</td>\n      <td>Wyoming</td>\n      <td>56043</td>\n      <td>7</td>\n      <td>0</td>\n      <td>no</td>\n      <td>no</td>\n      <td>43.904970</td>\n      <td>-107.682819</td>\n      <td>...</td>\n      <td>NaN</td>\n      <td>NaN</td>\n      <td>NaN</td>\n      <td>NaN</td>\n      <td>NaN</td>\n      <td>NaN</td>\n      <td>NaN</td>\n      <td>NaN</td>\n      <td>NaN</td>\n      <td>NaN</td>\n    </tr>\n  </tbody>\n</table>\n<p>100 rows × 227 columns</p>\n</div>"
     },
     "metadata": {},
     "execution_count": 6
    }
   ],
   "source": [
    "us_records.tail()"
   ]
  },
  {
   "cell_type": "code",
   "execution_count": 13,
   "metadata": {},
   "outputs": [
    {
     "output_type": "execute_result",
     "data": {
      "text/plain": "0         2020-01-21\n1         2020-01-22\n2         2020-01-23\n3         2020-01-24\n4         2020-01-24\n             ...    \n142822    2020-05-14\n142823    2020-05-14\n142824    2020-05-14\n142825    2020-05-14\n142826    2020-05-14\nName: date, Length: 142827, dtype: object"
     },
     "metadata": {},
     "execution_count": 13
    }
   ],
   "source": [
    "us_records[\"date\"]"
   ]
  },
  {
   "cell_type": "code",
   "execution_count": null,
   "metadata": {},
   "outputs": [],
   "source": []
  }
 ],
 "metadata": {
  "language_info": {
   "codemirror_mode": {
    "name": "ipython",
    "version": 3
   },
   "file_extension": ".py",
   "mimetype": "text/x-python",
   "name": "python",
   "nbconvert_exporter": "python",
   "pygments_lexer": "ipython3",
   "version": "3.6.8-final"
  },
  "orig_nbformat": 2,
  "kernelspec": {
   "name": "python36864bitd09e43f2e4574358a2606efe26ffbce9",
   "display_name": "Python 3.6.8 64-bit"
  }
 },
 "nbformat": 4,
 "nbformat_minor": 2
}