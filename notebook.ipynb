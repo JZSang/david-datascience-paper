{
 "cells": [
  {
   "cell_type": "code",
   "execution_count": null,
   "metadata": {},
   "outputs": [],
   "source": [
    "import numpy as np\n",
    "import matplotlib.pyplot as plt\n",
    "import pandas as pd\n",
    "from statsmodels.tsa.stattools import grangercausalitytests\n",
    "\n",
    "import os\n",
    "for dirname, _, filenames in os.walk('./data'):\n",
    "    for filename in filenames:\n",
    "        print(os.path.join(dirname, filename))"
   ]
  },
  {
   "cell_type": "code",
   "execution_count": null,
   "metadata": {},
   "outputs": [],
   "source": [
    "us_records = pd.read_csv(\"./data/US_counties_COVID19_health_weather_data.csv\")\n"
   ]
  },
  {
   "cell_type": "code",
   "execution_count": null,
   "metadata": {},
   "outputs": [],
   "source": [
    "population = pd.read_csv(\"./data/co-est2019-alldata.csv\", encoding=\"latin\")"
   ]
  },
  {
   "cell_type": "code",
   "execution_count": null,
   "metadata": {},
   "outputs": [],
   "source": [
    "us_records.head()"
   ]
  },
  {
   "cell_type": "code",
   "execution_count": null,
   "metadata": {},
   "outputs": [],
   "source": [
    "population.head()"
   ]
  },
  {
   "cell_type": "code",
   "execution_count": null,
   "metadata": {},
   "outputs": [],
   "source": [
    "counties = us_records.county.unique()\n",
    "county_specific = {elem: pd.DataFrame for elem in counties}\n",
    "for county in county_specific.keys():\n",
    "    county_specific[county] = us_records[:][us_records.county == county].reset_index()\n"
   ]
  },
  {
   "cell_type": "code",
   "execution_count": null,
   "metadata": {},
   "outputs": [],
   "source": [
    "print(county_specific.keys())\n"
   ]
  },
  {
   "cell_type": "code",
   "execution_count": null,
   "metadata": {},
   "outputs": [],
   "source": [
    "county_specific[\"Snohomish\"].isnull().sum()"
   ]
  },
  {
   "cell_type": "code",
   "execution_count": null,
   "metadata": {},
   "outputs": [],
   "source": [
    "county_specific[\"Snohomish\"].plot.line(x=\"date\", y=\"cases\")"
   ]
  },
  {
   "cell_type": "code",
   "execution_count": null,
   "metadata": {},
   "outputs": [],
   "source": [
    "# k, A = np.polyfit(county_specific[\"Snohomish\"].index, np.log(county_specific[\"Snohomish\"].cases), 1)\n",
    "# y = np.exp(A) * np.exp(k * county_specific[\"Snohomish\"].index)\n",
    "# plt.plot(county_specific[\"Snohomish\"].date, y)\n",
    "# plt.plot(county_specific[\"Snohomish\"].date, county_specific[\"Snohomish\"].cases)\n",
    "# plt.show()\n",
    "# logarithmic fit"
   ]
  },
  {
   "cell_type": "code",
   "execution_count": null,
   "metadata": {},
   "outputs": [],
   "source": [
    "#polynomial fit, cubic\n",
    "z = np.polyfit(county_specific[\"Snohomish\"].index, (county_specific[\"Snohomish\"].cases), 7)\n",
    "p = np.poly1d(z)\n",
    "y = p(county_specific[\"Snohomish\"].index)\n",
    "plt.plot(county_specific[\"Snohomish\"].index, y)\n",
    "plt.plot(county_specific[\"Snohomish\"].index, county_specific[\"Snohomish\"].cases)\n",
    "plt.show()\n"
   ]
  },
  {
   "cell_type": "code",
   "execution_count": null,
   "metadata": {},
   "outputs": [],
   "source": []
  }
 ],
 "metadata": {
  "language_info": {
   "codemirror_mode": {
    "name": "ipython",
    "version": 3
   },
   "file_extension": ".py",
   "mimetype": "text/x-python",
   "name": "python",
   "nbconvert_exporter": "python",
   "pygments_lexer": "ipython3",
   "version": "3.6.8-final"
  },
  "orig_nbformat": 2,
  "kernelspec": {
   "name": "python36864bitd09e43f2e4574358a2606efe26ffbce9",
   "display_name": "Python 3.6.8 64-bit"
  }
 },
 "nbformat": 4,
 "nbformat_minor": 2
}